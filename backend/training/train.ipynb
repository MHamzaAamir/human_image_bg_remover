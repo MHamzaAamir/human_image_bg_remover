{
 "cells": [
  {
   "cell_type": "markdown",
   "metadata": {},
   "source": [
    "# Human Image Background Remover"
   ]
  },
  {
   "cell_type": "markdown",
   "metadata": {},
   "source": [
    "## Imports"
   ]
  },
  {
   "cell_type": "code",
   "execution_count": 2,
   "metadata": {},
   "outputs": [],
   "source": [
    "import tensorflow as tf\n",
    "from tensorflow.keras import layers, models"
   ]
  },
  {
   "cell_type": "code",
   "execution_count": 5,
   "metadata": {},
   "outputs": [],
   "source": [
    "def u_net_model():\n",
    "    \n",
    "    input = layers.Input(shape=(572,572,3))\n",
    "    \n",
    "    # Conv Block 1\n",
    "    conv1_1 = layers.Conv2D(64,3,activation=\"relu\")(input)\n",
    "    conv1_2 = layers.Conv2D(64,3,activation=\"relu\")(conv1_1)\n",
    "    pool_1 = layers.MaxPooling2D(2)(conv1_2)\n",
    "    \n",
    "    \n",
    "    return pool_1    "
   ]
  }
 ],
 "metadata": {
  "kernelspec": {
   "display_name": "Python 3",
   "language": "python",
   "name": "python3"
  },
  "language_info": {
   "codemirror_mode": {
    "name": "ipython",
    "version": 3
   },
   "file_extension": ".py",
   "mimetype": "text/x-python",
   "name": "python",
   "nbconvert_exporter": "python",
   "pygments_lexer": "ipython3",
   "version": "3.10.9"
  }
 },
 "nbformat": 4,
 "nbformat_minor": 2
}
